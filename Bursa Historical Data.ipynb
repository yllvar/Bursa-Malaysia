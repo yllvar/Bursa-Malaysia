{
 "cells": [
  {
   "cell_type": "code",
   "execution_count": 1,
   "id": "1af4692c",
   "metadata": {},
   "outputs": [
    {
     "ename": "ModuleNotFoundError",
     "evalue": "No module named 'yfinance'",
     "output_type": "error",
     "traceback": [
      "\u001b[0;31m---------------------------------------------------------------------------\u001b[0m",
      "\u001b[0;31mModuleNotFoundError\u001b[0m                       Traceback (most recent call last)",
      "Cell \u001b[0;32mIn[1], line 1\u001b[0m\n\u001b[0;32m----> 1\u001b[0m \u001b[38;5;28;01mimport\u001b[39;00m \u001b[38;5;21;01myfinance\u001b[39;00m \u001b[38;5;28;01mas\u001b[39;00m \u001b[38;5;21;01myf\u001b[39;00m\n",
      "\u001b[0;31mModuleNotFoundError\u001b[0m: No module named 'yfinance'"
     ]
    }
   ],
   "source": [
    "import yfinance as yf"
   ]
  },
  {
   "cell_type": "code",
   "execution_count": null,
   "id": "a8395dbb",
   "metadata": {},
   "outputs": [],
   "source": [
    "class BursaMalaysiaHistoricalData:\n",
    "    @classmethod\n",
    "    def fetch_data(cls, ticker_symbol):\n",
    "        # Define the start and end dates for the historical data\n",
    "        start_date = '2020-01-01'\n",
    "        end_date = '2024-01-01'\n",
    "\n",
    "        try:\n",
    "            # Fetch historical data using Yahoo Finance API\n",
    "            data = yf.download(ticker_symbol + '.KL', start=start_date, end=end_date)\n",
    "            return data\n",
    "        except Exception as e:\n",
    "            print(\"Error fetching data:\", e)\n",
    "            return None\n",
    "\n"
   ]
  },
  {
   "cell_type": "code",
   "execution_count": 2,
   "id": "28639012",
   "metadata": {},
   "outputs": [
    {
     "name": "stdout",
     "output_type": "stream",
     "text": [
      "Name: yahoo-fin\r\n",
      "Version: 0.8.9.1\r\n",
      "Summary: Download historical stock prices (daily / weekly / monthly),\r\n",
      "                     realtime-prices, fundamentals data, income statements,\r\n",
      "                     cash flows, analyst info, current cryptocurrency prices,\r\n",
      "                     option chains, earnings history, and more with yahoo_fin.  \r\n",
      "Home-page: http://theautomatic.net/yahoo_fin-documentation/\r\n",
      "Author: Andrew Treadway\r\n",
      "Author-email: opensourcecoder11@gmail.com\r\n",
      "License: MIT\r\n",
      "Location: /Users/apple/.pyenv/versions/3.10.0/lib/python3.10/site-packages\r\n",
      "Requires: feedparser, pandas, requests, requests-html\r\n",
      "Required-by: \r\n"
     ]
    }
   ],
   "source": [
    "!pip show yahoo_fin"
   ]
  },
  {
   "cell_type": "code",
   "execution_count": null,
   "id": "f0a87a55",
   "metadata": {},
   "outputs": [],
   "source": [
    "if __name__ == \"__main__\":\n",
    "    # Example ticker symbol for Bursa Malaysia Composite Index\n",
    "    ticker_symbol = \"^KLSE\"\n",
    "\n",
    "    # Fetch historical data\n",
    "    historical_data = BursaMalaysiaHistoricalData.fetch_data(ticker_symbol)\n",
    "\n",
    "    # Print the fetched data\n",
    "    print(historical_data)\n"
   ]
  },
  {
   "cell_type": "code",
   "execution_count": null,
   "id": "42a6c32e",
   "metadata": {},
   "outputs": [],
   "source": [
    "!pip install yahoo_fin\n"
   ]
  },
  {
   "cell_type": "markdown",
   "id": "1dca06ea",
   "metadata": {},
   "source": [
    "## This is a basic guide on how to use pandas_datareader to fetch historical stock market data, including data for Bursa Malaysia"
   ]
  },
  {
   "cell_type": "code",
   "execution_count": null,
   "id": "8d5cd0fa",
   "metadata": {},
   "outputs": [],
   "source": [
    "!pip list"
   ]
  },
  {
   "cell_type": "code",
   "execution_count": 3,
   "id": "7b1614f9",
   "metadata": {},
   "outputs": [
    {
     "ename": "ModuleNotFoundError",
     "evalue": "No module named 'yahoo_fin'",
     "output_type": "error",
     "traceback": [
      "\u001b[0;31m---------------------------------------------------------------------------\u001b[0m",
      "\u001b[0;31mModuleNotFoundError\u001b[0m                       Traceback (most recent call last)",
      "Cell \u001b[0;32mIn[3], line 1\u001b[0m\n\u001b[0;32m----> 1\u001b[0m \u001b[38;5;28;01mfrom\u001b[39;00m \u001b[38;5;21;01myahoo_fin\u001b[39;00m\u001b[38;5;21;01m.\u001b[39;00m\u001b[38;5;21;01mstock_info\u001b[39;00m \u001b[38;5;28;01mimport\u001b[39;00m YahooFinanceHistory\n",
      "\u001b[0;31mModuleNotFoundError\u001b[0m: No module named 'yahoo_fin'"
     ]
    }
   ],
   "source": [
    "from yahoo_fin.stock_info import YahooFinanceHistory\n"
   ]
  },
  {
   "cell_type": "markdown",
   "id": "7970c055",
   "metadata": {},
   "source": [
    "## Fetch Historical Data: \n",
    "\n",
    "Use the DataReader function from pandas_datareader to fetch historical data. Specify the source (e.g., 'yahoo' for Yahoo Finance) and the ticker symbol of the stock or index you're interested in. You can also specify the start and end dates for the data"
   ]
  },
  {
   "cell_type": "code",
   "execution_count": null,
   "id": "6aa61ea2",
   "metadata": {},
   "outputs": [],
   "source": [
    "# Define start and end dates\n",
    "start_date = '2020-01-01'\n",
    "end_date = '2024-01-01'\n",
    "\n",
    "# Define ticker symbol for Bursa Malaysia Composite Index\n",
    "ticker_symbol = '^KLSE'\n",
    "\n",
    "# Fetch historical data from Yahoo Finance\n",
    "data = pdr.DataReader(ticker_symbol, 'yahoo-actions', start_date, end_date)"
   ]
  },
  {
   "cell_type": "markdown",
   "id": "2a76e89c",
   "metadata": {},
   "source": [
    "## View Data: \n",
    "\n",
    "Once you've fetched the data, you can view it as a DataFrame:\n",
    "\n"
   ]
  },
  {
   "cell_type": "code",
   "execution_count": null,
   "id": "af3505b2",
   "metadata": {},
   "outputs": [],
   "source": [
    "print(data.head())  # View the first few rows of the DataFrame\n"
   ]
  }
 ],
 "metadata": {
  "kernelspec": {
   "display_name": "Python 3 (ipykernel)",
   "language": "python",
   "name": "python3"
  },
  "language_info": {
   "codemirror_mode": {
    "name": "ipython",
    "version": 3
   },
   "file_extension": ".py",
   "mimetype": "text/x-python",
   "name": "python",
   "nbconvert_exporter": "python",
   "pygments_lexer": "ipython3",
   "version": "3.11.5"
  }
 },
 "nbformat": 4,
 "nbformat_minor": 5
}
